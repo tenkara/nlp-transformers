{
 "cells": [
  {
   "cell_type": "code",
   "execution_count": null,
   "metadata": {},
   "outputs": [],
   "source": [
    "# ! pip install spacy"
   ]
  },
  {
   "cell_type": "code",
   "execution_count": 1,
   "metadata": {},
   "outputs": [],
   "source": [
    "import spacy"
   ]
  },
  {
   "cell_type": "code",
   "execution_count": 2,
   "metadata": {},
   "outputs": [
    {
     "name": "stdout",
     "output_type": "stream",
     "text": [
      "Collecting en-core-web-sm==3.5.0\n",
      "  Downloading https://github.com/explosion/spacy-models/releases/download/en_core_web_sm-3.5.0/en_core_web_sm-3.5.0-py3-none-any.whl (12.8 MB)\n",
      "     --------------------------------------- 12.8/12.8 MB 11.5 MB/s eta 0:00:00\n",
      "Requirement already satisfied: spacy<3.6.0,>=3.5.0 in c:\\users\\raj\\miniconda3\\envs\\tf\\lib\\site-packages (from en-core-web-sm==3.5.0) (3.5.3)\n",
      "Requirement already satisfied: spacy-legacy<3.1.0,>=3.0.11 in c:\\users\\raj\\miniconda3\\envs\\tf\\lib\\site-packages (from spacy<3.6.0,>=3.5.0->en-core-web-sm==3.5.0) (3.0.12)\n",
      "Requirement already satisfied: spacy-loggers<2.0.0,>=1.0.0 in c:\\users\\raj\\miniconda3\\envs\\tf\\lib\\site-packages (from spacy<3.6.0,>=3.5.0->en-core-web-sm==3.5.0) (1.0.4)\n",
      "Requirement already satisfied: murmurhash<1.1.0,>=0.28.0 in c:\\users\\raj\\miniconda3\\envs\\tf\\lib\\site-packages (from spacy<3.6.0,>=3.5.0->en-core-web-sm==3.5.0) (1.0.9)\n",
      "Requirement already satisfied: cymem<2.1.0,>=2.0.2 in c:\\users\\raj\\miniconda3\\envs\\tf\\lib\\site-packages (from spacy<3.6.0,>=3.5.0->en-core-web-sm==3.5.0) (2.0.7)\n",
      "Requirement already satisfied: preshed<3.1.0,>=3.0.2 in c:\\users\\raj\\miniconda3\\envs\\tf\\lib\\site-packages (from spacy<3.6.0,>=3.5.0->en-core-web-sm==3.5.0) (3.0.8)\n",
      "Requirement already satisfied: thinc<8.2.0,>=8.1.8 in c:\\users\\raj\\miniconda3\\envs\\tf\\lib\\site-packages (from spacy<3.6.0,>=3.5.0->en-core-web-sm==3.5.0) (8.1.10)\n",
      "Requirement already satisfied: wasabi<1.2.0,>=0.9.1 in c:\\users\\raj\\miniconda3\\envs\\tf\\lib\\site-packages (from spacy<3.6.0,>=3.5.0->en-core-web-sm==3.5.0) (1.1.1)\n",
      "Requirement already satisfied: srsly<3.0.0,>=2.4.3 in c:\\users\\raj\\miniconda3\\envs\\tf\\lib\\site-packages (from spacy<3.6.0,>=3.5.0->en-core-web-sm==3.5.0) (2.4.6)\n",
      "Requirement already satisfied: catalogue<2.1.0,>=2.0.6 in c:\\users\\raj\\miniconda3\\envs\\tf\\lib\\site-packages (from spacy<3.6.0,>=3.5.0->en-core-web-sm==3.5.0) (2.0.8)\n",
      "Requirement already satisfied: typer<0.8.0,>=0.3.0 in c:\\users\\raj\\miniconda3\\envs\\tf\\lib\\site-packages (from spacy<3.6.0,>=3.5.0->en-core-web-sm==3.5.0) (0.7.0)\n",
      "Requirement already satisfied: pathy>=0.10.0 in c:\\users\\raj\\miniconda3\\envs\\tf\\lib\\site-packages (from spacy<3.6.0,>=3.5.0->en-core-web-sm==3.5.0) (0.10.1)\n",
      "Requirement already satisfied: smart-open<7.0.0,>=5.2.1 in c:\\users\\raj\\miniconda3\\envs\\tf\\lib\\site-packages (from spacy<3.6.0,>=3.5.0->en-core-web-sm==3.5.0) (6.3.0)\n",
      "Requirement already satisfied: tqdm<5.0.0,>=4.38.0 in c:\\users\\raj\\miniconda3\\envs\\tf\\lib\\site-packages (from spacy<3.6.0,>=3.5.0->en-core-web-sm==3.5.0) (4.65.0)\n",
      "Requirement already satisfied: numpy>=1.15.0 in c:\\users\\raj\\miniconda3\\envs\\tf\\lib\\site-packages (from spacy<3.6.0,>=3.5.0->en-core-web-sm==3.5.0) (1.24.3)\n",
      "Requirement already satisfied: requests<3.0.0,>=2.13.0 in c:\\users\\raj\\miniconda3\\envs\\tf\\lib\\site-packages (from spacy<3.6.0,>=3.5.0->en-core-web-sm==3.5.0) (2.30.0)\n",
      "Requirement already satisfied: pydantic!=1.8,!=1.8.1,<1.11.0,>=1.7.4 in c:\\users\\raj\\miniconda3\\envs\\tf\\lib\\site-packages (from spacy<3.6.0,>=3.5.0->en-core-web-sm==3.5.0) (1.10.7)\n",
      "Requirement already satisfied: jinja2 in c:\\users\\raj\\miniconda3\\envs\\tf\\lib\\site-packages (from spacy<3.6.0,>=3.5.0->en-core-web-sm==3.5.0) (3.1.2)\n",
      "Requirement already satisfied: setuptools in c:\\users\\raj\\miniconda3\\envs\\tf\\lib\\site-packages (from spacy<3.6.0,>=3.5.0->en-core-web-sm==3.5.0) (67.7.2)\n",
      "Requirement already satisfied: packaging>=20.0 in c:\\users\\raj\\miniconda3\\envs\\tf\\lib\\site-packages (from spacy<3.6.0,>=3.5.0->en-core-web-sm==3.5.0) (23.1)\n",
      "Requirement already satisfied: langcodes<4.0.0,>=3.2.0 in c:\\users\\raj\\miniconda3\\envs\\tf\\lib\\site-packages (from spacy<3.6.0,>=3.5.0->en-core-web-sm==3.5.0) (3.3.0)\n",
      "Requirement already satisfied: typing-extensions>=4.2.0 in c:\\users\\raj\\miniconda3\\envs\\tf\\lib\\site-packages (from pydantic!=1.8,!=1.8.1,<1.11.0,>=1.7.4->spacy<3.6.0,>=3.5.0->en-core-web-sm==3.5.0) (4.5.0)\n",
      "Requirement already satisfied: charset-normalizer<4,>=2 in c:\\users\\raj\\miniconda3\\envs\\tf\\lib\\site-packages (from requests<3.0.0,>=2.13.0->spacy<3.6.0,>=3.5.0->en-core-web-sm==3.5.0) (3.1.0)\n",
      "Requirement already satisfied: idna<4,>=2.5 in c:\\users\\raj\\miniconda3\\envs\\tf\\lib\\site-packages (from requests<3.0.0,>=2.13.0->spacy<3.6.0,>=3.5.0->en-core-web-sm==3.5.0) (3.4)\n",
      "Requirement already satisfied: urllib3<3,>=1.21.1 in c:\\users\\raj\\miniconda3\\envs\\tf\\lib\\site-packages (from requests<3.0.0,>=2.13.0->spacy<3.6.0,>=3.5.0->en-core-web-sm==3.5.0) (1.26.15)\n",
      "Requirement already satisfied: certifi>=2017.4.17 in c:\\users\\raj\\miniconda3\\envs\\tf\\lib\\site-packages (from requests<3.0.0,>=2.13.0->spacy<3.6.0,>=3.5.0->en-core-web-sm==3.5.0) (2023.5.7)\n",
      "Requirement already satisfied: blis<0.8.0,>=0.7.8 in c:\\users\\raj\\miniconda3\\envs\\tf\\lib\\site-packages (from thinc<8.2.0,>=8.1.8->spacy<3.6.0,>=3.5.0->en-core-web-sm==3.5.0) (0.7.9)\n",
      "Requirement already satisfied: confection<1.0.0,>=0.0.1 in c:\\users\\raj\\miniconda3\\envs\\tf\\lib\\site-packages (from thinc<8.2.0,>=8.1.8->spacy<3.6.0,>=3.5.0->en-core-web-sm==3.5.0) (0.0.4)\n",
      "Requirement already satisfied: colorama in c:\\users\\raj\\miniconda3\\envs\\tf\\lib\\site-packages (from tqdm<5.0.0,>=4.38.0->spacy<3.6.0,>=3.5.0->en-core-web-sm==3.5.0) (0.4.6)\n",
      "Requirement already satisfied: click<9.0.0,>=7.1.1 in c:\\users\\raj\\miniconda3\\envs\\tf\\lib\\site-packages (from typer<0.8.0,>=0.3.0->spacy<3.6.0,>=3.5.0->en-core-web-sm==3.5.0) (8.1.3)\n",
      "Requirement already satisfied: MarkupSafe>=2.0 in c:\\users\\raj\\miniconda3\\envs\\tf\\lib\\site-packages (from jinja2->spacy<3.6.0,>=3.5.0->en-core-web-sm==3.5.0) (2.1.2)\n",
      "Installing collected packages: en-core-web-sm\n",
      "Successfully installed en-core-web-sm-3.5.0\n",
      "\u001b[38;5;2m✔ Download and installation successful\u001b[0m\n",
      "You can now load the package via spacy.load('en_core_web_sm')\n"
     ]
    }
   ],
   "source": [
    "# !python -m spacy download en_core_web_sm"
   ]
  },
  {
   "cell_type": "code",
   "execution_count": 3,
   "metadata": {},
   "outputs": [],
   "source": [
    "nlp = spacy.load(\"en_core_web_sm\")"
   ]
  },
  {
   "cell_type": "code",
   "execution_count": 5,
   "metadata": {},
   "outputs": [],
   "source": [
    "txt = \"Apple is looking at buying U.K. startup for $1 billion\""
   ]
  },
  {
   "cell_type": "code",
   "execution_count": 7,
   "metadata": {},
   "outputs": [],
   "source": [
    "doc = nlp(txt)"
   ]
  },
  {
   "cell_type": "code",
   "execution_count": 8,
   "metadata": {},
   "outputs": [
    {
     "data": {
      "text/plain": [
       "spacy.tokens.doc.Doc"
      ]
     },
     "execution_count": 8,
     "metadata": {},
     "output_type": "execute_result"
    }
   ],
   "source": [
    "type(doc)"
   ]
  },
  {
   "cell_type": "code",
   "execution_count": 9,
   "metadata": {},
   "outputs": [],
   "source": [
    "from spacy import displacy"
   ]
  },
  {
   "cell_type": "code",
   "execution_count": 10,
   "metadata": {},
   "outputs": [
    {
     "data": {
      "text/html": [
       "<span class=\"tex2jax_ignore\"><div class=\"entities\" style=\"line-height: 2.5; direction: ltr\">\n",
       "<mark class=\"entity\" style=\"background: #7aecec; padding: 0.45em 0.6em; margin: 0 0.25em; line-height: 1; border-radius: 0.35em;\">\n",
       "    Apple\n",
       "    <span style=\"font-size: 0.8em; font-weight: bold; line-height: 1; border-radius: 0.35em; vertical-align: middle; margin-left: 0.5rem\">ORG</span>\n",
       "</mark>\n",
       " is looking at buying \n",
       "<mark class=\"entity\" style=\"background: #feca74; padding: 0.45em 0.6em; margin: 0 0.25em; line-height: 1; border-radius: 0.35em;\">\n",
       "    U.K.\n",
       "    <span style=\"font-size: 0.8em; font-weight: bold; line-height: 1; border-radius: 0.35em; vertical-align: middle; margin-left: 0.5rem\">GPE</span>\n",
       "</mark>\n",
       " startup for \n",
       "<mark class=\"entity\" style=\"background: #e4e7d2; padding: 0.45em 0.6em; margin: 0 0.25em; line-height: 1; border-radius: 0.35em;\">\n",
       "    $1 billion\n",
       "    <span style=\"font-size: 0.8em; font-weight: bold; line-height: 1; border-radius: 0.35em; vertical-align: middle; margin-left: 0.5rem\">MONEY</span>\n",
       "</mark>\n",
       "</div></span>"
      ],
      "text/plain": [
       "<IPython.core.display.HTML object>"
      ]
     },
     "metadata": {},
     "output_type": "display_data"
    }
   ],
   "source": [
    "displacy.render(doc, style=\"ent\", jupyter=True)"
   ]
  },
  {
   "cell_type": "code",
   "execution_count": 11,
   "metadata": {},
   "outputs": [
    {
     "data": {
      "text/plain": [
       "'Countries, cities, states'"
      ]
     },
     "execution_count": 11,
     "metadata": {},
     "output_type": "execute_result"
    }
   ],
   "source": [
    "spacy.explain(\"GPE\")"
   ]
  },
  {
   "cell_type": "code",
   "execution_count": 12,
   "metadata": {},
   "outputs": [
    {
     "data": {
      "text/plain": [
       "(Apple, U.K., $1 billion)"
      ]
     },
     "execution_count": 12,
     "metadata": {},
     "output_type": "execute_result"
    }
   ],
   "source": [
    "doc.ents"
   ]
  },
  {
   "cell_type": "code",
   "execution_count": 17,
   "metadata": {},
   "outputs": [
    {
     "data": {
      "text/plain": [
       "spacy.tokens.span.Span"
      ]
     },
     "execution_count": 17,
     "metadata": {},
     "output_type": "execute_result"
    }
   ],
   "source": [
    "type(doc.ents[0])"
   ]
  },
  {
   "cell_type": "code",
   "execution_count": 18,
   "metadata": {},
   "outputs": [
    {
     "name": "stdout",
     "output_type": "stream",
     "text": [
      "Help on Span object:\n",
      "\n",
      "class Span(builtins.object)\n",
      " |  A slice from a Doc object.\n",
      " |  \n",
      " |  DOCS: https://spacy.io/api/span\n",
      " |  \n",
      " |  Methods defined here:\n",
      " |  \n",
      " |  __eq__(self, value, /)\n",
      " |      Return self==value.\n",
      " |  \n",
      " |  __ge__(self, value, /)\n",
      " |      Return self>=value.\n",
      " |  \n",
      " |  __getitem__(...)\n",
      " |      Get a `Token` or a `Span` object\n",
      " |      \n",
      " |      i (int or tuple): The index of the token within the span, or slice of\n",
      " |          the span to get.\n",
      " |      RETURNS (Token or Span): The token at `span[i]`.\n",
      " |      \n",
      " |      DOCS: https://spacy.io/api/span#getitem\n",
      " |  \n",
      " |  __gt__(self, value, /)\n",
      " |      Return self>value.\n",
      " |  \n",
      " |  __hash__(self, /)\n",
      " |      Return hash(self).\n",
      " |  \n",
      " |  __iter__(...)\n",
      " |      Iterate over `Token` objects.\n",
      " |      \n",
      " |      YIELDS (Token): A `Token` object.\n",
      " |      \n",
      " |      DOCS: https://spacy.io/api/span#iter\n",
      " |  \n",
      " |  __le__(self, value, /)\n",
      " |      Return self<=value.\n",
      " |  \n",
      " |  __len__(...)\n",
      " |      Get the number of tokens in the span.\n",
      " |      \n",
      " |      RETURNS (int): The number of tokens in the span.\n",
      " |      \n",
      " |      DOCS: https://spacy.io/api/span#len\n",
      " |  \n",
      " |  __lt__(self, value, /)\n",
      " |      Return self<value.\n",
      " |  \n",
      " |  __ne__(self, value, /)\n",
      " |      Return self!=value.\n",
      " |  \n",
      " |  __reduce__(...)\n",
      " |      Span.__reduce__(self)\n",
      " |  \n",
      " |  __repr__(self, /)\n",
      " |      Return repr(self).\n",
      " |  \n",
      " |  as_doc(...)\n",
      " |      Span.as_doc(self, *, bool copy_user_data=False, array_head=None, array=None)\n",
      " |      Create a `Doc` object with a copy of the `Span`'s data.\n",
      " |      \n",
      " |              copy_user_data (bool): Whether or not to copy the original doc's user data.\n",
      " |              array_head (tuple): `Doc` array attrs, can be passed in to speed up computation.\n",
      " |              array (ndarray): `Doc` as array, can be passed in to speed up computation.\n",
      " |              RETURNS (Doc): The `Doc` copy of the span.\n",
      " |      \n",
      " |              DOCS: https://spacy.io/api/span#as_doc\n",
      " |  \n",
      " |  char_span(...)\n",
      " |      Span.char_span(self, int start_idx, int end_idx, label=0, kb_id=0, vector=None, id=0, alignment_mode='strict', span_id=0)\n",
      " |      Create a `Span` object from the slice `span.text[start : end]`.\n",
      " |      \n",
      " |              start (int): The index of the first character of the span.\n",
      " |              end (int): The index of the first character after the span.\n",
      " |              label (Union[int, str]): A label to attach to the Span, e.g. for\n",
      " |                  named entities.\n",
      " |              kb_id (Union[int, str]):  An ID from a KB to capture the meaning of a named entity.\n",
      " |              vector (ndarray[ndim=1, dtype='float32']): A meaning representation of\n",
      " |                  the span.\n",
      " |              id (Union[int, str]): Unused.\n",
      " |              alignment_mode (str): How character indices are aligned to token\n",
      " |                  boundaries. Options: \"strict\" (character indices must be aligned\n",
      " |                  with token boundaries), \"contract\" (span of all tokens completely\n",
      " |                  within the character span), \"expand\" (span of all tokens at least\n",
      " |                  partially covered by the character span). Defaults to \"strict\".\n",
      " |              span_id (Union[int, str]): An identifier to associate with the span.\n",
      " |              RETURNS (Span): The newly constructed object.\n",
      " |  \n",
      " |  get_lca_matrix(...)\n",
      " |      Span.get_lca_matrix(self)\n",
      " |      Calculates a matrix of Lowest Common Ancestors (LCA) for a given\n",
      " |              `Span`, where LCA[i, j] is the index of the lowest common ancestor among\n",
      " |              the tokens span[i] and span[j]. If they have no common ancestor within\n",
      " |              the span, LCA[i, j] will be -1.\n",
      " |      \n",
      " |              RETURNS (np.array[ndim=2, dtype=numpy.int32]): LCA matrix with shape\n",
      " |                  (n, n), where n = len(self).\n",
      " |      \n",
      " |              DOCS: https://spacy.io/api/span#get_lca_matrix\n",
      " |  \n",
      " |  similarity(...)\n",
      " |      Span.similarity(self, other)\n",
      " |      Make a semantic similarity estimate. The default estimate is cosine\n",
      " |              similarity using an average of word vectors.\n",
      " |      \n",
      " |              other (object): The object to compare with. By default, accepts `Doc`,\n",
      " |                  `Span`, `Token` and `Lexeme` objects.\n",
      " |              RETURNS (float): A scalar similarity score. Higher is more similar.\n",
      " |      \n",
      " |              DOCS: https://spacy.io/api/span#similarity\n",
      " |  \n",
      " |  to_array(...)\n",
      " |      Span.to_array(self, py_attr_ids) -> ndarray\n",
      " |      Given a list of M attribute IDs, export the tokens to a numpy\n",
      " |              `ndarray` of shape `(N, M)`, where `N` is the length of the document.\n",
      " |              The values will be 32-bit integers.\n",
      " |      \n",
      " |              attr_ids (list[int]): A list of attribute ID ints.\n",
      " |              RETURNS (numpy.ndarray[long, ndim=2]): A feature matrix, with one row\n",
      " |                  per word, and one column per attribute indicated in the input\n",
      " |                  `attr_ids`.\n",
      " |  \n",
      " |  ----------------------------------------------------------------------\n",
      " |  Class methods defined here:\n",
      " |  \n",
      " |  get_extension(...) from builtins.type\n",
      " |      Span.get_extension(type cls, name)\n",
      " |      Look up a previously registered extension by name.\n",
      " |      \n",
      " |              name (str): Name of the extension.\n",
      " |              RETURNS (tuple): A `(default, method, getter, setter)` tuple.\n",
      " |      \n",
      " |              DOCS: https://spacy.io/api/span#get_extension\n",
      " |  \n",
      " |  has_extension(...) from builtins.type\n",
      " |      Span.has_extension(type cls, name)\n",
      " |      Check whether an extension has been registered.\n",
      " |      \n",
      " |              name (str): Name of the extension.\n",
      " |              RETURNS (bool): Whether the extension has been registered.\n",
      " |      \n",
      " |              DOCS: https://spacy.io/api/span#has_extension\n",
      " |  \n",
      " |  remove_extension(...) from builtins.type\n",
      " |      Span.remove_extension(type cls, name)\n",
      " |      Remove a previously registered extension.\n",
      " |      \n",
      " |              name (str): Name of the extension.\n",
      " |              RETURNS (tuple): A `(default, method, getter, setter)` tuple of the\n",
      " |                  removed extension.\n",
      " |      \n",
      " |              DOCS: https://spacy.io/api/span#remove_extension\n",
      " |  \n",
      " |  set_extension(...) from builtins.type\n",
      " |      Span.set_extension(type cls, name, **kwargs)\n",
      " |      Define a custom attribute which becomes available as `Span._`.\n",
      " |      \n",
      " |              name (str): Name of the attribute to set.\n",
      " |              default: Optional default value of the attribute.\n",
      " |              getter (callable): Optional getter function.\n",
      " |              setter (callable): Optional setter function.\n",
      " |              method (callable): Optional method for method extension.\n",
      " |              force (bool): Force overwriting existing attribute.\n",
      " |      \n",
      " |              DOCS: https://spacy.io/api/span#set_extension\n",
      " |              USAGE: https://spacy.io/usage/processing-pipelines#custom-components-attributes\n",
      " |  \n",
      " |  ----------------------------------------------------------------------\n",
      " |  Static methods defined here:\n",
      " |  \n",
      " |  __new__(*args, **kwargs) from builtins.type\n",
      " |      Create and return a new object.  See help(type) for accurate signature.\n",
      " |  \n",
      " |  ----------------------------------------------------------------------\n",
      " |  Data descriptors defined here:\n",
      " |  \n",
      " |  conjuncts\n",
      " |      Tokens that are conjoined to the span's root.\n",
      " |      \n",
      " |      RETURNS (tuple): A tuple of Token objects.\n",
      " |      \n",
      " |      DOCS: https://spacy.io/api/span#lefts\n",
      " |  \n",
      " |  doc\n",
      " |  \n",
      " |  end\n",
      " |  \n",
      " |  end_char\n",
      " |  \n",
      " |  ent_id\n",
      " |      RETURNS (uint64): The entity ID.\n",
      " |  \n",
      " |  ent_id_\n",
      " |      RETURNS (str): The (string) entity ID.\n",
      " |  \n",
      " |  ents\n",
      " |      The named entities that fall completely within the span. Returns\n",
      " |      a tuple of `Span` objects.\n",
      " |      \n",
      " |      RETURNS (tuple): Entities in the span, one `Span` per entity.\n",
      " |      \n",
      " |      DOCS: https://spacy.io/api/span#ents\n",
      " |  \n",
      " |  has_vector\n",
      " |      A boolean value indicating whether a word vector is associated with\n",
      " |      the object.\n",
      " |      \n",
      " |      RETURNS (bool): Whether a word vector is associated with the object.\n",
      " |      \n",
      " |      DOCS: https://spacy.io/api/span#has_vector\n",
      " |  \n",
      " |  id\n",
      " |  \n",
      " |  id_\n",
      " |      RETURNS (str): The span's ID.\n",
      " |  \n",
      " |  kb_id\n",
      " |  \n",
      " |  kb_id_\n",
      " |      RETURNS (str): The span's KB ID.\n",
      " |  \n",
      " |  label\n",
      " |  \n",
      " |  label_\n",
      " |      RETURNS (str): The span's label.\n",
      " |  \n",
      " |  lefts\n",
      " |      Tokens that are to the left of the span, whose head is within the\n",
      " |      `Span`.\n",
      " |      \n",
      " |      YIELDS (Token):A left-child of a token of the span.\n",
      " |      \n",
      " |      DOCS: https://spacy.io/api/span#lefts\n",
      " |  \n",
      " |  lemma_\n",
      " |      RETURNS (str): The span's lemma.\n",
      " |  \n",
      " |  n_lefts\n",
      " |      The number of tokens that are to the left of the span, whose\n",
      " |      heads are within the span.\n",
      " |      \n",
      " |      RETURNS (int): The number of leftward immediate children of the\n",
      " |          span, in the syntactic dependency parse.\n",
      " |      \n",
      " |      DOCS: https://spacy.io/api/span#n_lefts\n",
      " |  \n",
      " |  n_rights\n",
      " |      The number of tokens that are to the right of the span, whose\n",
      " |      heads are within the span.\n",
      " |      \n",
      " |      RETURNS (int): The number of rightward immediate children of the\n",
      " |          span, in the syntactic dependency parse.\n",
      " |      \n",
      " |      DOCS: https://spacy.io/api/span#n_rights\n",
      " |  \n",
      " |  noun_chunks\n",
      " |      Iterate over the base noun phrases in the span. Yields base\n",
      " |      noun-phrase #[code Span] objects, if the language has a noun chunk iterator.\n",
      " |      Raises a NotImplementedError otherwise.\n",
      " |      \n",
      " |      A base noun phrase, or \"NP chunk\", is a noun\n",
      " |      phrase that does not permit other NPs to be nested within it – so no\n",
      " |      NP-level coordination, no prepositional phrases, and no relative\n",
      " |      clauses.\n",
      " |      \n",
      " |      YIELDS (Span): Noun chunks in the span.\n",
      " |      \n",
      " |      DOCS: https://spacy.io/api/span#noun_chunks\n",
      " |  \n",
      " |  orth_\n",
      " |      Verbatim text content (identical to `Span.text`). Exists mostly for\n",
      " |      consistency with other attributes.\n",
      " |      \n",
      " |      RETURNS (str): The span's text.\n",
      " |  \n",
      " |  rights\n",
      " |      Tokens that are to the right of the Span, whose head is within the\n",
      " |      `Span`.\n",
      " |      \n",
      " |      YIELDS (Token): A right-child of a token of the span.\n",
      " |      \n",
      " |      DOCS: https://spacy.io/api/span#rights\n",
      " |  \n",
      " |  root\n",
      " |      The token with the shortest path to the root of the\n",
      " |      sentence (or the root itself). If multiple tokens are equally\n",
      " |      high in the tree, the first token is taken.\n",
      " |      \n",
      " |      RETURNS (Token): The root token.\n",
      " |      \n",
      " |      DOCS: https://spacy.io/api/span#root\n",
      " |  \n",
      " |  sent\n",
      " |      Obtain the sentence that contains this span. If the given span\n",
      " |      crosses sentence boundaries, return only the first sentence\n",
      " |      to which it belongs.\n",
      " |      \n",
      " |      RETURNS (Span): The sentence span that the span is a part of.\n",
      " |  \n",
      " |  sentiment\n",
      " |      RETURNS (float): A scalar value indicating the positivity or\n",
      " |      negativity of the span.\n",
      " |  \n",
      " |  sents\n",
      " |      Obtain the sentences that contain this span. If the given span\n",
      " |      crosses sentence boundaries, return all sentences it is a part of.\n",
      " |      \n",
      " |      RETURNS (Iterable[Span]): All sentences that the span is a part of.\n",
      " |      \n",
      " |       DOCS: https://spacy.io/api/span#sents\n",
      " |  \n",
      " |  start\n",
      " |  \n",
      " |  start_char\n",
      " |  \n",
      " |  subtree\n",
      " |      Tokens within the span and tokens which descend from them.\n",
      " |      \n",
      " |      YIELDS (Token): A token within the span, or a descendant from it.\n",
      " |      \n",
      " |      DOCS: https://spacy.io/api/span#subtree\n",
      " |  \n",
      " |  tensor\n",
      " |      The span's slice of the doc's tensor.\n",
      " |      \n",
      " |      RETURNS (ndarray[ndim=2, dtype='float32']): A 2D numpy or cupy array\n",
      " |          representing the span's semantics.\n",
      " |  \n",
      " |  text\n",
      " |      RETURNS (str): The original verbatim text of the span.\n",
      " |  \n",
      " |  text_with_ws\n",
      " |      The text content of the span with a trailing whitespace character if\n",
      " |      the last token has one.\n",
      " |      \n",
      " |      RETURNS (str): The text content of the span (with trailing\n",
      " |          whitespace).\n",
      " |  \n",
      " |  vector\n",
      " |      A real-valued meaning representation. Defaults to an average of the\n",
      " |      token vectors.\n",
      " |      \n",
      " |      RETURNS (numpy.ndarray[ndim=1, dtype='float32']): A 1D numpy array\n",
      " |          representing the span's semantics.\n",
      " |      \n",
      " |      DOCS: https://spacy.io/api/span#vector\n",
      " |  \n",
      " |  vector_norm\n",
      " |      The L2 norm of the span's vector representation.\n",
      " |      \n",
      " |      RETURNS (float): The L2 norm of the vector representation.\n",
      " |      \n",
      " |      DOCS: https://spacy.io/api/span#vector_norm\n",
      " |  \n",
      " |  vocab\n",
      " |      RETURNS (Vocab): The Span's Doc's vocab.\n",
      " |  \n",
      " |  ----------------------------------------------------------------------\n",
      " |  Data and other attributes defined here:\n",
      " |  \n",
      " |  __pyx_vtable__ = <capsule object NULL>\n",
      "\n"
     ]
    }
   ],
   "source": [
    "help(doc.ents[0])"
   ]
  },
  {
   "cell_type": "code",
   "execution_count": 20,
   "metadata": {},
   "outputs": [
    {
     "name": "stdout",
     "output_type": "stream",
     "text": [
      "Apple, ORG\n",
      "U.K., GPE\n",
      "$1 billion, MONEY\n"
     ]
    }
   ],
   "source": [
    "for entity in doc.ents:\n",
    "    print(f\"{entity.text}, {entity.label_}\")"
   ]
  },
  {
   "cell_type": "code",
   "execution_count": 21,
   "metadata": {},
   "outputs": [
    {
     "data": {
      "text/plain": [
       "['Apple']"
      ]
     },
     "execution_count": 21,
     "metadata": {},
     "output_type": "execute_result"
    }
   ],
   "source": [
    "org_list = []\n",
    "for entity in doc.ents:\n",
    "    if entity.label_ == \"ORG\":\n",
    "        org_list.append(entity.text)\n",
    "\n",
    "org_list"
   ]
  }
 ],
 "metadata": {
  "kernelspec": {
   "display_name": "tf",
   "language": "python",
   "name": "python3"
  },
  "language_info": {
   "codemirror_mode": {
    "name": "ipython",
    "version": 3
   },
   "file_extension": ".py",
   "mimetype": "text/x-python",
   "name": "python",
   "nbconvert_exporter": "python",
   "pygments_lexer": "ipython3",
   "version": "3.9.16"
  },
  "orig_nbformat": 4
 },
 "nbformat": 4,
 "nbformat_minor": 2
}
