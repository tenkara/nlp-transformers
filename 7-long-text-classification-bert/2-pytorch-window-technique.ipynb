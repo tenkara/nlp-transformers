{
 "cells": [
  {
   "cell_type": "code",
   "execution_count": 1,
   "metadata": {},
   "outputs": [],
   "source": [
    "from transformers import BertTokenizer, BertForSequenceClassification\n",
    "import torch"
   ]
  },
  {
   "cell_type": "code",
   "execution_count": 2,
   "metadata": {},
   "outputs": [],
   "source": [
    "# initialize the model and tokenizer\n",
    "tokenizer = BertTokenizer.from_pretrained('ProsusAI/finbert')\n",
    "model = BertForSequenceClassification.from_pretrained('ProsusAI/finbert')"
   ]
  },
  {
   "cell_type": "code",
   "execution_count": 3,
   "metadata": {},
   "outputs": [],
   "source": [
    "txt = \"\"\"\n",
    "Covered health care providers and health plans (covered entities)1 can use remote communication technologies2 to provide audio-only telehealth3 services when such communications are conducted in a manner that is consistent with the applicable requirements of the Health Insurance Portability and Accountability Act of 1996 (HIPAA) Privacy, Security, and Breach Notification Rules (HIPAA Rules).4 The U.S. Department of Health and Human Services (HHS) Office for Civil Rights (OCR) developed this guidance to help covered entities understand how they can use remote communication technologies for audio-only telehealth5 in compliance with the HIPAA Rules, including when OCR’s Notification of Enforcement Discretion for Telehealth Remote Communications (Telehealth Notification)6 is no longer in effect.7\n",
    "\n",
    "HHS is issuing this guidance on audio-only telehealth in direct response to the Executive Order on Transforming Federal Customer Experience and Service Delivery to Rebuild Trust in Government (E.O. 14058).8 This guidance will help ensure that individuals can continue to benefit from audio-only telehealth by clarifying how covered entities can provide telehealth services and improving public confidence that covered entities are protecting the privacy and security of their health information.\n",
    "\n",
    "In addition, while telehealth can significantly expand access to health care, certain populations may have difficulty accessing or be unable to access technologies used for audio-video telehealth because of various factors, including financial resources, limited English proficiency, disability, internet access, availability of sufficient broadband, and cell coverage in the geographic area.  Audio-only telehealth, especially using technologies that do not require broadband availability, can help address the needs of some of these individuals.9  To support access to such telehealth services, this guidance addresses questions that HHS has received about whether, and in what circumstances, audio-only telehealth is permissible under the HIPAA Rules.10  This guidance also addresses questions about the applicability of the HIPAA Rules to covered entities’ use of remote communication technologies to provide audio-only telehealth services.11\n",
    "\n",
    "OCR’s Telehealth Notification and FAQs\n",
    "In March 2020, in response to the COVID-19 public health emergency (PHE), OCR issued the Telehealth Notification to assist the health care industry’s response to the PHE and to quickly expand the use of remote health care services.  OCR also published a set of FAQs to support and clarify the Telehealth Notification.11\n",
    "\n",
    "The Telehealth Notification provides that OCR will exercise its enforcement discretion and will not impose penalties on covered health care providers12 for noncompliance with the requirements of the HIPAA Rules in connection with the good faith provision of telehealth using non-public facing13 audio or video remote communication technologies during the COVID-19 PHE.14  As such, under the Telehealth Notification, covered health care providers can use any available non-public facing remote communication technologies for telehealth, even where those technologies, and the manner in which they are used, may not fully comply with the HIPAA Rules.  The Telehealth Notification will remain in effect until the Secretary of HHS declares that the COVID-19 PHE no longer exists, or upon the expiration date of the declared PHE, whichever occurs first.  \n",
    "\n",
    "The following FAQs provide guidance to assist covered entities in complying with the HIPAA Rules when OCR’s Telehealth Notification is no longer in effect. \n",
    "\n",
    "1.  Does the HIPAA Privacy Rule permit covered health care providers and health plans to use remote communication technologies to provide audio-only telehealth services?\n",
    "\n",
    "Yes. HIPAA covered entities can use remote communication technologies to provide telehealth services, including audio-only services, in compliance with the HIPAA Privacy Rule.  \n",
    "\n",
    "The HIPAA Privacy Rule requires that covered entities apply reasonable safeguards to protect the privacy of protected health information (PHI) from impermissible uses or disclosures, including when providing telehealth services.15   For example, OCR expects covered health care providers to provide telehealth services in private settings to the extent feasible.  If telehealth services cannot be provided in a private setting (e.g., where a provider shares an office with a colleague or a family member), covered health care providers still must implement reasonable safeguards, such as using lowered voices and not using speakerphone, to limit incidental uses or disclosures of PHI.16\n",
    "\n",
    "In addition, if the individual is not known to the covered entity, the entity must verify the identity of the individual either orally or in writing (which may include using electronic methods).17  The HIPAA Rules do not mandate a specific way to verify identity. However, covered entities should be mindful that civil rights laws generally require communications with an individual with a disability to be as effective as communications with others, including by providing appropriate auxiliary aids and services where necessary.18   This requirement extends to all communications with an individual with a disability, including communications related to verifying an individual’s identity.  In addition, when necessary, covered entities must verify the individual’s identity by using language assistance services to provide meaningful access for individuals with limited English proficiency.19\n",
    "\n",
    "2.  Do covered health care providers and health plans have to meet the requirements of the HIPAA Security Rule in order to use remote communication technologies to provide audio-only telehealth services?\n",
    "\n",
    "Yes, in certain circumstances. The HIPAA Security Rule applies to electronic protected health information (ePHI), which is PHI transmitted by, or maintained in, electronic media.20 , 21\n",
    "\n",
    "The HIPAA Security Rule does not apply to audio-only telehealth services provided by a covered entity that is using a standard telephone line, often described as a traditional landline,22  because the information transmitted is not electronic.  Accordingly, a covered entity does not need to apply the Security Rule safeguards to telehealth services that they provide using such traditional landlines (regardless of the type of telephone technology the individual uses).\n",
    "\n",
    "However, traditional landlines are rapidly being replaced with electronic communication technologies such as Voice over Internet Protocol (VoIP)23 and mobile technologies that use electronic media, such as the Internet, intra- and extranets, cellular, and Wi-Fi.24   The HIPAA Security Rule applies when a covered entity uses such electronic communication technologies.  Covered entities using telephone systems that transmit ePHI need to apply the HIPAA Security Rule safeguards to those technologies.  Note that an individual receiving telehealth services may use any telephone system they choose and is not bound by the HIPAA Rules when doing so. In addition, a covered entity is not responsible for the privacy or security of individuals’ health information once it has been received by the individual’s phone or other device.   \n",
    "\n",
    "For example, some current electronic technologies that covered entities use for remote communications that require compliance with the Security Rule, may include:\n",
    "\n",
    "Communication applications (apps) on a smartphone or another computing device.\n",
    "VoIP technologies.\n",
    "Technologies that electronically record or transcribe a telehealth session.\n",
    "Messaging services that electronically store audio messages. \n",
    "Potential risks and vulnerabilities to the confidentiality, integrity, and availability of ePHI when using such technologies need to be identified, assessed, and addressed as part of a covered entity’s risk analysis and risk management processes, as required by the HIPAA Security Rule.25    A covered entity’s risk analysis and risk management should include considerations of whether:\n",
    "\n",
    "There is a risk the transmission could be intercepted by an unauthorized third party. \n",
    "The remote communication technology (e.g., mobile device, app) supports encrypted transmissions.\n",
    "There is a risk ePHI created or stored as a result of a telehealth session (e.g., session recordings or transcripts) could be accessed by an unauthorized third party, and whether encryption is available to secure recordings or transcripts of created or stored telehealth sessions.26    \n",
    "Authentication is required to access the device or app where telehealth session ePHI may be stored.\n",
    "The device or app automatically terminates the session or locks after a period of inactivity.\n",
    "As communication technologies (e.g., networks, devices, apps) continue to evolve at a rapid pace, a robust inventory and asset management process can help covered entities identify such technologies and the information systems that use them, to help ensure an accurate and thorough risk analysis.27  For information about implementing the HIPAA Security Rule requirements, see OCR’s Security Rule guidance webpage.28\n",
    "\n",
    "3.  Do the HIPAA Rules permit a covered health care provider or a health plan to conduct audio-only telehealth using remote communication technologies without a business associate agreement in place with the vendor? \n",
    "\n",
    "Yes, in some circumstances.  The HIPAA Rules require a covered entity to enter into a business associate agreement (BAA)29 with a telecommunication service provider30 (TSP) only when the vendor is acting as a business associate.31  As explained in previous guidance, a covered entity using a telephone to communicate with patients is not required to enter into a BAA with a TSP that has only transient access to the PHI it transmits,32 because the vendor is acting merely as a conduit for the PHI.33  If the TSP is not also creating, receiving, or maintaining PHI on behalf of the covered entity, and the TSP does not require access on a routine basis to the PHI it transmits in the call,34 no business associate relationship has been created.  Therefore, a BAA is not needed.\n",
    "\n",
    "For example, a covered health care provider may conduct an audio-only telehealth session with a patient using a smartphone without a BAA between the covered health care provider and the TSP, where the TSP does not create, receive, or maintain any PHI from the session and is only connecting the call. \n",
    "However, a covered entity must enter into a BAA with a vendor that is more than a mere conduit for PHI. \n",
    "\n",
    "For example, a covered health care provider may want to conduct audio-only telehealth sessions with patients using a smartphone app offered by a health care provider that stores PHI (e.g., recordings, transcripts) in the app developer’s cloud infrastructure for the provider’s later use. In this case, the app would not be providing mere data transmission services and would instead also be creating, receiving, and maintaining PHI.  Because it is not merely a conduit for transmission of the PHI, the provider would need to enter into a BAA with the app developer before it can use the app with patients.  \n",
    "Similarly, a covered health care provider would need a BAA with the developer of a smartphone app that the provider uses to translate oral communications to another language to provide meaningful access to individuals with limited English proficiency,35 because the app is creating and receiving PHI, and therefore the developer is a business associate of the provider.36\n",
    "4.  Do the HIPAA Rules allow covered health care providers to use remote communication technologies to provide audio-only telehealth if an individual’s health plan does not provide coverage or payment for those services?\n",
    "\n",
    "Yes.  Covered health care providers may offer audio-only telehealth services using remote communication technologies consistent with the requirements of the HIPAA Rules, regardless of whether any health plan covers or pays for those services. Health plan coverage and payment policies for health care services delivered via telehealth are separate from questions about compliance with the HIPAA Rules and are not addressed in this document.   \n",
    "\"\"\""
   ]
  },
  {
   "cell_type": "code",
   "execution_count": 4,
   "metadata": {},
   "outputs": [
    {
     "name": "stderr",
     "output_type": "stream",
     "text": [
      "Token indices sequence length is longer than the specified maximum sequence length for this model (2372 > 512). Running this sequence through the model will result in indexing errors\n"
     ]
    },
    {
     "name": "stdout",
     "output_type": "stream",
     "text": [
      "2372\n"
     ]
    },
    {
     "data": {
      "text/plain": [
       "{'input_ids': tensor([[3139, 2740, 2729,  ..., 2023, 6254, 1012]]), 'token_type_ids': tensor([[0, 0, 0,  ..., 0, 0, 0]]), 'attention_mask': tensor([[1, 1, 1,  ..., 1, 1, 1]])}"
      ]
     },
     "execution_count": 4,
     "metadata": {},
     "output_type": "execute_result"
    }
   ],
   "source": [
    "tokens = tokenizer.__call__(txt, add_special_tokens=False, return_tensors='pt')\n",
    "print(len(tokens['input_ids'][0]))\n",
    "tokens"
   ]
  },
  {
   "cell_type": "code",
   "execution_count": 5,
   "metadata": {},
   "outputs": [
    {
     "data": {
      "text/plain": [
       "tensor([ 0,  1,  2,  3,  4,  5,  6,  7,  8,  9, 10, 11])"
      ]
     },
     "execution_count": 5,
     "metadata": {},
     "output_type": "execute_result"
    }
   ],
   "source": [
    "a = torch.arange(12)\n",
    "a"
   ]
  },
  {
   "cell_type": "code",
   "execution_count": 6,
   "metadata": {},
   "outputs": [
    {
     "data": {
      "text/plain": [
       "(tensor([0, 1, 2, 3, 4]), tensor([5, 6, 7, 8, 9]), tensor([10, 11]))"
      ]
     },
     "execution_count": 6,
     "metadata": {},
     "output_type": "execute_result"
    }
   ],
   "source": [
    "torch.split(a, 5)"
   ]
  },
  {
   "cell_type": "code",
   "execution_count": 7,
   "metadata": {},
   "outputs": [],
   "source": [
    "# chunk the input into 510 token chunks\n",
    "# chunk the mask into 510 token chunks\n",
    "input_chunks = torch.split(tokens['input_ids'][0], 510)\n",
    "mask_chunks = torch.split(tokens['attention_mask'][0], 510)"
   ]
  },
  {
   "cell_type": "code",
   "execution_count": 8,
   "metadata": {},
   "outputs": [
    {
     "name": "stdout",
     "output_type": "stream",
     "text": [
      "5, 5, 510, 510, 332\n"
     ]
    }
   ],
   "source": [
    "# check the results, the last chunk is smaller than 510 tokens\n",
    "print(f'{len(input_chunks)}, {len(mask_chunks)}, {len(input_chunks[0])}, {len(mask_chunks[0])}, {len(input_chunks[4])}')"
   ]
  },
  {
   "cell_type": "code",
   "execution_count": 9,
   "metadata": {},
   "outputs": [
    {
     "data": {
      "text/plain": [
       "tensor([101,   0,   1,   2,   3,   4,   5,   6,   7,   8,   9,  10,  11, 102])"
      ]
     },
     "execution_count": 9,
     "metadata": {},
     "output_type": "execute_result"
    }
   ],
   "source": [
    "a = torch.cat(\n",
    "    [torch.tensor([101]), a, torch.tensor([102])]\n",
    ")\n",
    "a"
   ]
  },
  {
   "cell_type": "code",
   "execution_count": 10,
   "metadata": {},
   "outputs": [
    {
     "data": {
      "text/plain": [
       "332"
      ]
     },
     "execution_count": 10,
     "metadata": {},
     "output_type": "execute_result"
    }
   ],
   "source": [
    "len(input_chunks[4])"
   ]
  },
  {
   "cell_type": "code",
   "execution_count": 11,
   "metadata": {},
   "outputs": [
    {
     "name": "stdout",
     "output_type": "stream",
     "text": [
      "512\n",
      "512\n",
      "512\n",
      "512\n",
      "512\n"
     ]
    },
    {
     "data": {
      "text/plain": [
       "tensor([  101.,  4607.,  2046.,  1037.,  8670.,  2050.,  2007.,  1037., 21431.,\n",
       "         2008.,  2003.,  2062.,  2084.,  1037.,  8210.,  9530.,  8566.,  4183.,\n",
       "         2005., 13569.,  1012.,  2005.,  2742.,  1010.,  1037.,  3139.,  2740.,\n",
       "         2729., 10802.,  2089.,  2215.,  2000.,  6204.,  5746.,  1011.,  2069.,\n",
       "        10093., 11106., 15879.,  2705.,  6521.,  2007.,  5022.,  2478.,  1037.,\n",
       "        26381., 10439.,  3253.,  2011.,  1037.,  2740.,  2729., 10802.,  2008.,\n",
       "         5324., 13569.,  1006.,  1041.,  1012.,  1043.,  1012.,  1010.,  5633.,\n",
       "         1010., 24051.,  2015.,  1007.,  1999.,  1996., 10439.,  9722.,  1521.,\n",
       "         1055.,  6112.,  6502.,  2005.,  1996., 10802.,  1521.,  1055.,  2101.,\n",
       "         2224.,  1012.,  1999.,  2023.,  2553.,  1010.,  1996., 10439.,  2052.,\n",
       "         2025.,  2022.,  4346.,  8210.,  2951.,  6726.,  2578.,  1998.,  2052.,\n",
       "         2612.,  2036.,  2022.,  4526.,  1010.,  4909.,  1010.,  1998.,  8498.,\n",
       "        13569.,  1012.,  2138.,  2009.,  2003.,  2025.,  6414.,  1037.,  9530.,\n",
       "         8566.,  4183.,  2005.,  6726.,  1997.,  1996., 13569.,  1010.,  1996.,\n",
       "        10802.,  2052.,  2342.,  2000.,  4607.,  2046.,  1037.,  8670.,  2050.,\n",
       "         2007.,  1996., 10439.,  9722.,  2077.,  2009.,  2064.,  2224.,  1996.,\n",
       "        10439.,  2007.,  5022.,  1012.,  6660.,  1010.,  1037.,  3139.,  2740.,\n",
       "         2729., 10802.,  2052.,  2342.,  1037.,  8670.,  2050.,  2007.,  1996.,\n",
       "         9722.,  1997.,  1037., 26381., 10439.,  2008.,  1996., 10802.,  3594.,\n",
       "         2000., 17637.,  8700.,  4806.,  2000.,  2178.,  2653.,  2000.,  3073.,\n",
       "        15902.,  3229.,  2000.,  3633.,  2007.,  3132.,  2394., 26293.,  1010.,\n",
       "         3486.,  2138.,  1996., 10439.,  2003.,  4526.,  1998.,  4909., 13569.,\n",
       "         1010.,  1998.,  3568.,  1996.,  9722.,  2003.,  1037.,  2449.,  5482.,\n",
       "         1997.,  1996., 10802.,  1012.,  4029.,  1018.,  1012.,  2079.,  1996.,\n",
       "         5099., 11057.,  3513.,  3499.,  3139.,  2740.,  2729., 11670.,  2000.,\n",
       "         2224.,  6556.,  4807.,  6786.,  2000.,  3073.,  5746.,  1011.,  2069.,\n",
       "        10093., 11106., 15879.,  2705.,  2065.,  2019.,  3265.,  1521.,  1055.,\n",
       "         2740.,  2933.,  2515.,  2025.,  3073.,  6325.,  2030.,  7909.,  2005.,\n",
       "         2216.,  2578.,  1029.,  2748.,  1012.,  3139.,  2740.,  2729., 11670.,\n",
       "         2089.,  3749.,  5746.,  1011.,  2069., 10093., 11106., 15879.,  2705.,\n",
       "         2578.,  2478.,  6556.,  4807.,  6786.,  8335.,  2007.,  1996.,  5918.,\n",
       "         1997.,  1996.,  5099., 11057.,  3513.,  1010.,  7539.,  1997.,  3251.,\n",
       "         2151.,  2740.,  2933.,  4472.,  2030., 12778.,  2005.,  2216.,  2578.,\n",
       "         1012.,  2740.,  2933.,  6325.,  1998.,  7909.,  6043.,  2005.,  2740.,\n",
       "         2729.,  2578.,  5359.,  3081., 10093., 11106., 15879.,  2705.,  2024.,\n",
       "         3584.,  2013.,  3980.,  2055., 12646.,  2007.,  1996.,  5099., 11057.,\n",
       "         3513.,  1998.,  2024.,  2025.,  8280.,  1999.,  2023.,  6254.,  1012.,\n",
       "          102.,     0.,     0.,     0.,     0.,     0.,     0.,     0.,     0.,\n",
       "            0.,     0.,     0.,     0.,     0.,     0.,     0.,     0.,     0.,\n",
       "            0.,     0.,     0.,     0.,     0.,     0.,     0.,     0.,     0.,\n",
       "            0.,     0.,     0.,     0.,     0.,     0.,     0.,     0.,     0.,\n",
       "            0.,     0.,     0.,     0.,     0.,     0.,     0.,     0.,     0.,\n",
       "            0.,     0.,     0.,     0.,     0.,     0.,     0.,     0.,     0.,\n",
       "            0.,     0.,     0.,     0.,     0.,     0.,     0.,     0.,     0.,\n",
       "            0.,     0.,     0.,     0.,     0.,     0.,     0.,     0.,     0.,\n",
       "            0.,     0.,     0.,     0.,     0.,     0.,     0.,     0.,     0.,\n",
       "            0.,     0.,     0.,     0.,     0.,     0.,     0.,     0.,     0.,\n",
       "            0.,     0.,     0.,     0.,     0.,     0.,     0.,     0.,     0.,\n",
       "            0.,     0.,     0.,     0.,     0.,     0.,     0.,     0.,     0.,\n",
       "            0.,     0.,     0.,     0.,     0.,     0.,     0.,     0.,     0.,\n",
       "            0.,     0.,     0.,     0.,     0.,     0.,     0.,     0.,     0.,\n",
       "            0.,     0.,     0.,     0.,     0.,     0.,     0.,     0.,     0.,\n",
       "            0.,     0.,     0.,     0.,     0.,     0.,     0.,     0.,     0.,\n",
       "            0.,     0.,     0.,     0.,     0.,     0.,     0.,     0.,     0.,\n",
       "            0.,     0.,     0.,     0.,     0.,     0.,     0.,     0.,     0.,\n",
       "            0.,     0.,     0.,     0.,     0.,     0.,     0.,     0.,     0.,\n",
       "            0.,     0.,     0.,     0.,     0.,     0.,     0.,     0.])"
      ]
     },
     "execution_count": 11,
     "metadata": {},
     "output_type": "execute_result"
    }
   ],
   "source": [
    "# define target chunksize\n",
    "chunksize = 512\n",
    "\n",
    "# split into chunks of 510 tokens, we also convert to list (default is tuple which is immutable)\n",
    "input_id_chunks = list(tokens['input_ids'][0].split(chunksize - 2))\n",
    "mask_chunks = list(tokens['attention_mask'][0].split(chunksize - 2))\n",
    "\n",
    "# loop through each chunk\n",
    "for i in range(len(input_id_chunks)):\n",
    "    # add CLS and SEP tokens to input IDs\n",
    "    input_id_chunks[i] = torch.cat([\n",
    "        torch.tensor([101]), input_id_chunks[i], torch.tensor([102])\n",
    "    ])\n",
    "    # add attention tokens to attention mask\n",
    "    mask_chunks[i] = torch.cat([\n",
    "        torch.tensor([1]), mask_chunks[i], torch.tensor([1])\n",
    "    ])\n",
    "    # get required padding length\n",
    "    pad_len = chunksize - input_id_chunks[i].shape[0]\n",
    "    # check if tensor length satisfies required chunk size\n",
    "    if pad_len > 0:\n",
    "        # if padding length is more than 0, we must add padding\n",
    "        input_id_chunks[i] = torch.cat([\n",
    "            input_id_chunks[i], torch.Tensor([0] * pad_len)\n",
    "        ])\n",
    "        mask_chunks[i] = torch.cat([\n",
    "            mask_chunks[i], torch.Tensor([0] * pad_len)\n",
    "        ])\n",
    "\n",
    "# check length of each tensor\n",
    "for chunk in input_id_chunks:\n",
    "    print(len(chunk))\n",
    "# print final chunk so we can see 101, 102, and 0 (PAD) tokens are all correctly placed\n",
    "chunk"
   ]
  },
  {
   "cell_type": "code",
   "execution_count": 12,
   "metadata": {},
   "outputs": [],
   "source": [
    "input_ids = torch.stack(input_id_chunks)\n",
    "attention_mask = torch.stack(mask_chunks)"
   ]
  },
  {
   "cell_type": "code",
   "execution_count": 13,
   "metadata": {},
   "outputs": [
    {
     "data": {
      "text/plain": [
       "{'input_ids': tensor([[ 101, 3139, 2740,  ..., 1997, 6904,  102],\n",
       "         [ 101, 4160, 2015,  ..., 2164, 2011,  102],\n",
       "         [ 101, 4346, 6413,  ..., 2423, 1037,  102],\n",
       "         [ 101, 3139, 9178,  ..., 9178, 2442,  102],\n",
       "         [ 101, 4607, 2046,  ...,    0,    0,    0]]),\n",
       " 'attention_mask': tensor([[1, 1, 1,  ..., 1, 1, 1],\n",
       "         [1, 1, 1,  ..., 1, 1, 1],\n",
       "         [1, 1, 1,  ..., 1, 1, 1],\n",
       "         [1, 1, 1,  ..., 1, 1, 1],\n",
       "         [1, 1, 1,  ..., 0, 0, 0]], dtype=torch.int32)}"
      ]
     },
     "execution_count": 13,
     "metadata": {},
     "output_type": "execute_result"
    }
   ],
   "source": [
    "input_dict = {\n",
    "    'input_ids': input_ids.long(),\n",
    "    'attention_mask': attention_mask.int()\n",
    "}\n",
    "input_dict"
   ]
  },
  {
   "cell_type": "code",
   "execution_count": 14,
   "metadata": {},
   "outputs": [
    {
     "data": {
      "text/plain": [
       "tensor([0.0304, 0.0492, 0.9204], grad_fn=<MeanBackward1>)"
      ]
     },
     "execution_count": 14,
     "metadata": {},
     "output_type": "execute_result"
    }
   ],
   "source": [
    "outputs = model(**input_dict)\n",
    "probs = torch.nn.functional.softmax(outputs[0], dim=-1)\n",
    "probs = probs.mean(dim=0)\n",
    "probs"
   ]
  },
  {
   "cell_type": "code",
   "execution_count": 15,
   "metadata": {},
   "outputs": [
    {
     "data": {
      "text/plain": [
       "2"
      ]
     },
     "execution_count": 15,
     "metadata": {},
     "output_type": "execute_result"
    }
   ],
   "source": [
    "torch.argmax(probs).item()"
   ]
  }
 ],
 "metadata": {
  "kernelspec": {
   "display_name": "tf",
   "language": "python",
   "name": "python3"
  },
  "language_info": {
   "codemirror_mode": {
    "name": "ipython",
    "version": 3
   },
   "file_extension": ".py",
   "mimetype": "text/x-python",
   "name": "python",
   "nbconvert_exporter": "python",
   "pygments_lexer": "ipython3",
   "version": "3.9.16"
  },
  "orig_nbformat": 4
 },
 "nbformat": 4,
 "nbformat_minor": 2
}
