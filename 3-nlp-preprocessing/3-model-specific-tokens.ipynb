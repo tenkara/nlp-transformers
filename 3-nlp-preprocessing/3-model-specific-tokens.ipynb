{
 "cells": [
  {
   "attachments": {},
   "cell_type": "markdown",
   "metadata": {},
   "source": [
    "The *'advantage'* of using character-level embeddings is that any models we train on this data will only need to remember all of the characters of the alphabet, punctuation characters, and spaces/newlines. So the model **vocabulary** (list of all the tokens it *knows*) is very small. Additionally if a new word appears outside of training, the model will still be able to digest it - whereas a word-level embedding model would not understand the new word and replace it with an *unknown token* (more on this soon).\n",
    "\n",
    "It's not all good news for character-level embeddings though. Words carry a significant level of semantic meaning, and when we use character-level embedding this is mostly lost. At a high-level we can view character-level embedding as being good for syntax, and word-level embedding as being better for semantics. Although, in-reality, word-level embeddings almost always outpeform character-level embeddings.\n",
    "\n",
    "Back to **word-level** embeddings, we will often find with the latest transformer models that text can be split into **part-word tokens**. So for example, we may find that the word *'being'* is split into the tokens *\\[\"be\", \"-ing\"\\]*, or *'amazingly'* to *\\[\"amaz\", \"-ing\", \"-ly\"\\]*.\n",
    "\n",
    "In addition to this, we typically seperate **punctuation** too, so in our previous example the tokens *'@huggingface'* and *'impressed,'* would become *\\[\"@\", \"huggingface\"\\]* and *\\[\"impressed\", \",\"\\]* respectively.\n",
    "\n",
    "In our tweet we might want to find any token that begins with **@** and convert that token to **\\<USER\\>**, a unique token that we have specified to identify usernames in our tweets. This rule is logical as there are potentially millions of added tokens in our model if we include Twitter usernames, but the username doesn't tell our model anything about the meaning in the language of the text, for example:\n",
    "\n",
    "`@elonmusk thinks that the NLP models that @joebloggs made are super cool`\n",
    "\n",
    "Has no real meaningful difference to our model as with:\n",
    "\n",
    "`@joebloggs thinks that the NLP models that @huggingface made are super cool`\n",
    "\n",
    "The meaning and subsequent classification of both tweets should really be identical in our model. So, it is logical to replace usernames with a single shared token. This approach is something that is commonly used for many different things such as:\n",
    "\n",
    "* emails\n",
    "* names/usernames\n",
    "* URLs\n",
    "* monetary values\n",
    "* or any other numbers\n",
    "\n",
    "But ofcourse we don't always want to do this for everything, this is simply a rough guide as to what we *may* want to tokenize.\n",
    "\n",
    "*Finally*, we also need to understand **model-specific special tokens**. We will do this with an example.\n",
    "\n",
    "For the BERT transformer model there are *five* special tokens that are used by the model, these are:\n",
    "\n",
    "| Token | Meaning |\n",
    "| --- | --- |\n",
    "| **[PAD]** | Padding token, allows us to maintain same-length sequences (512 tokens for Bert) even when different sized sentences are fed in |\n",
    "| **[UNK]** | Used when a word is unknown to Bert |\n",
    "| **[CLS]** | Appears at the start of every sequence |\n",
    "| **[SEP]** | Indicates a seperator or end of sequence |\n",
    "| **[MASK]** | Used when masking tokens, for example in training with masked language modelling (MLM) |\n",
    "\n",
    "So if we take the *'NLP models'* tweet, processing that directly with our BERT specific tokens might look like this:\n",
    "\n",
    "```\n",
    "['[CLS]', '[UNK]', 'thinks', 'that', 'the', 'nlp', 'models', 'that', '[UNK]', 'made', 'are', 'super', 'cool', '[SEP]', '[PAD]', '[PAD]', ..., '[PAD]']\n",
    "```\n",
    "\n",
    "Here, we have:\n",
    "\n",
    "* Applied **\\[CLS\\]** token to indicate the start of the sequence.\n",
    "* Both username tokens *@elonmusk* and *@joebloggs* were not 'known' words to BERT so BERT replaced them with unknown tokens **\\[UNK\\]**, alternatively we could have replaced these with our own special **user** tokens.\n",
    "* Added **\\[SEP\\]* token to the end of our sequence.\n",
    "* Padded the sequence upto the required length of 512 tokens *(required due to fixed input sequence length of BERT model)* using **\\[PAD\\]** tokens.\n",
    "\n",
    "Different models will have different special tokens, but we will often that they are being used for similiar reasons.\n",
    "\n",
    "That's everything on tokens for now, although we will cover tokenization in more depth (and the code too) for different models in later notebooks."
   ]
  },
  {
   "cell_type": "code",
   "execution_count": 4,
   "metadata": {},
   "outputs": [
    {
     "data": {
      "text/plain": [
       "['[CLS]',\n",
       " '[UNK]',\n",
       " 'thinks',\n",
       " 'that',\n",
       " 'the',\n",
       " 'NLP',\n",
       " 'models',\n",
       " 'that',\n",
       " '[UNK]',\n",
       " 'made',\n",
       " 'are',\n",
       " 'super',\n",
       " 'cool',\n",
       " '[SEP]',\n",
       " '[PAD]',\n",
       " '[PAD]']"
      ]
     },
     "execution_count": 4,
     "metadata": {},
     "output_type": "execute_result"
    }
   ],
   "source": [
    "\"[CLS] [UNK] thinks that the NLP models that [UNK] made are super cool [SEP] [PAD] [PAD]\".split()"
   ]
  }
 ],
 "metadata": {
  "kernelspec": {
   "display_name": "venv",
   "language": "python",
   "name": "python3"
  },
  "language_info": {
   "codemirror_mode": {
    "name": "ipython",
    "version": 3
   },
   "file_extension": ".py",
   "mimetype": "text/x-python",
   "name": "python",
   "nbconvert_exporter": "python",
   "pygments_lexer": "ipython3",
   "version": "3.11.2"
  },
  "orig_nbformat": 4
 },
 "nbformat": 4,
 "nbformat_minor": 2
}
